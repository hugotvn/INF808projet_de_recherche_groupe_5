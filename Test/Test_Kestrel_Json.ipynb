{
 "cells": [
  {
   "cell_type": "markdown",
   "id": "783e8adb",
   "metadata": {},
   "source": [
    "# **Tests primaires avec Kestrel**\n",
    "---\n",
    "\n",
    "## *Test sur l'acquisition de données à partir d'un fichier JSON*\n",
    "\n",
    "Nous allons tester l'extraction et l'affichage des logs à partir d'un fichier JSON contenant des événements de trafic réseau et de processus. La requête suivant récupère les processus du fichier log et affiche leurs noms.\n",
    "\n",
    "### 1️⃣ Extraction de tous les logs"
   ]
  },
  {
   "cell_type": "code",
   "execution_count": 5,
   "id": "f0f0ce7a",
   "metadata": {},
   "outputs": [
    {
     "name": "stderr",
     "output_type": "stream",
     "text": []
    },
    {
     "data": {
      "text/html": [
       "<div><h4>Block Executed in 1 seconds</h4><table border=\"1\" class=\"dataframe\">\n",
       "  <thead>\n",
       "    <tr style=\"text-align: right;\">\n",
       "      <th>VARIABLE</th>\n",
       "      <th>TYPE</th>\n",
       "      <th>#(ENTITIES)</th>\n",
       "      <th>#(RECORDS)</th>\n",
       "    </tr>\n",
       "  </thead>\n",
       "  <tbody>\n",
       "    <tr>\n",
       "      <td>logs</td>\n",
       "      <td>process</td>\n",
       "      <td>0</td>\n",
       "      <td>0</td>\n",
       "    </tr>\n",
       "  </tbody>\n",
       "</table><p>*Number of related records cached.</p></div>"
      ]
     },
     "metadata": {},
     "output_type": "display_data"
    }
   ],
   "source": [
    "\n",
    "logs = GET process FROM file://logs.json where id IS NOT NULL\n",
    "DISP logs ATTR name"
   ]
  },
  {
   "cell_type": "markdown",
   "id": "c74d2bee",
   "metadata": {},
   "source": [
    "\n",
    "\n",
    "### **2️⃣ Analyse des trafics réseau suspects** ###\n",
    "\n",
    "Nous allons identifier les flux réseau avec des ports suspects en source ou en destination.\n"
   ]
  },
  {
   "cell_type": "code",
   "execution_count": 2,
   "id": "d80ba15e",
   "metadata": {},
   "outputs": [
    {
     "name": "stderr",
     "output_type": "stream",
     "text": []
    },
    {
     "data": {
      "text/html": [
       "<div><h4>Block Executed in 1 seconds</h4><table border=\"1\" class=\"dataframe\">\n",
       "  <thead>\n",
       "    <tr style=\"text-align: right;\">\n",
       "      <th>VARIABLE</th>\n",
       "      <th>TYPE</th>\n",
       "      <th>#(ENTITIES)</th>\n",
       "      <th>#(RECORDS)</th>\n",
       "    </tr>\n",
       "  </thead>\n",
       "  <tbody>\n",
       "    <tr>\n",
       "      <td>traffic_logs</td>\n",
       "      <td>network-traffic</td>\n",
       "      <td>0</td>\n",
       "      <td>0</td>\n",
       "    </tr>\n",
       "    <tr>\n",
       "      <td>sorted_traffic_logs</td>\n",
       "      <td>network-traffic</td>\n",
       "      <td>0</td>\n",
       "      <td>0</td>\n",
       "    </tr>\n",
       "  </tbody>\n",
       "</table><p>*Number of related records cached.</p></div>"
      ]
     },
     "metadata": {},
     "output_type": "display_data"
    }
   ],
   "source": [
    "# Charger les traffics reseaux avec des ports suspects en source ou destination\n",
    "traffic_logs = GET network-traffic FROM file://logs.json WHERE (src_port IN ('4444', '5555') OR dst_port IN ('4444', '5555'))\n",
    "\n",
    "# Trier les logs de trafic réseau par \"timestamp\"\n",
    "sorted_traffic_logs = SORT traffic_logs BY timestamp\n",
    "\n",
    "# Afficher les logs de trafic réseau triés\n",
    "DISP sorted_traffic_logs ATTR src_ip, dst_ip, src_port, dst_port, protocols, timestamp"
   ]
  },
  {
   "cell_type": "markdown",
   "id": "9f586a26",
   "metadata": {},
   "source": [
    "### **3️⃣ Analyse des processus suspects** ###\n",
    "\n",
    "Nous allons identifier les processus suspects à partir des lignes de commandes jugées louches.\n"
   ]
  },
  {
   "cell_type": "code",
   "execution_count": 8,
   "id": "acc3db6c",
   "metadata": {
    "scrolled": true
   },
   "outputs": [
    {
     "name": "stderr",
     "output_type": "stream",
     "text": []
    },
    {
     "data": {
      "text/html": [
       "<div><h4>Block Executed in 1 seconds</h4><table border=\"1\" class=\"dataframe\">\n",
       "  <thead>\n",
       "    <tr style=\"text-align: right;\">\n",
       "      <th>VARIABLE</th>\n",
       "      <th>TYPE</th>\n",
       "      <th>#(ENTITIES)</th>\n",
       "      <th>#(RECORDS)</th>\n",
       "    </tr>\n",
       "  </thead>\n",
       "  <tbody>\n",
       "    <tr>\n",
       "      <td>malicious_processes</td>\n",
       "      <td>process</td>\n",
       "      <td>0</td>\n",
       "      <td>0</td>\n",
       "    </tr>\n",
       "    <tr>\n",
       "      <td>sorted_malicious_processes</td>\n",
       "      <td>process</td>\n",
       "      <td>0</td>\n",
       "      <td>0</td>\n",
       "    </tr>\n",
       "  </tbody>\n",
       "</table><p>*Number of related records cached.</p></div>"
      ]
     },
     "metadata": {},
     "output_type": "display_data"
    }
   ],
   "source": [
    "\n",
    "# Charger les processus suspects\n",
    "malicious_processes = GET process FROM file://logs.json WHERE command_line LIKE \"%nc -e%\" OR command_line LIKE \"%curl%\"\n",
    "\n",
    "# Trier les processus malveillants par \"timestamp\"\n",
    "sorted_malicious_processes = SORT malicious_processes BY timestamp\n",
    "\n",
    "# Afficher les processus malveillants triés\n",
    "DISP sorted_malicious_processes ATTR name, command_line, user, timestamp\n"
   ]
  },
  {
   "cell_type": "markdown",
   "id": "3f9e40f2",
   "metadata": {},
   "source": [
    "### Voici un premier aperçu simple de Threat Hunting que l'on peut faire avec Kestrel"
   ]
  }
 ],
 "metadata": {
  "kernelspec": {
   "display_name": "Kestrel",
   "language": "kestrel",
   "name": "kestrel"
  },
  "language_info": {
   "file_extension": ".hf",
   "name": "kestrel"
  }
 },
 "nbformat": 4,
 "nbformat_minor": 5
}
